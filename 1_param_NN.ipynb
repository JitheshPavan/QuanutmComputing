{
 "cells": [
  {
   "cell_type": "code",
   "execution_count": 60,
   "id": "04c22539-5e82-4c4c-8efb-d619d5fa3e66",
   "metadata": {},
   "outputs": [
    {
     "data": {
      "image/png": "[encoded data removed]",
      "text/plain": [
       "<Figure size 185.453x117.056 with 1 Axes>"
      ]
     },
     "metadata": {},
     "output_type": "display_data"
    }
   ],
   "source": [
    "#The following QC learns a single parameter. There is no data encoding. We start with a random parameter(W) and go towrads\n",
    "# the optimal value(2*Pi)\n",
    "from qiskit.circuit import Parameter\n",
    "from qiskit import QuantumCircuit ,Aer,execute\n",
    "from qiskit.visualization import plot_state_city\n",
    "import numpy as np\n",
    "#Hypperparameters\n",
    "global W\n",
    "W=np.array([np.pi/2])\n",
    "#Quantum Circuit\n",
    "param= Parameter(\"w\")\n",
    "qc= QuantumCircuit(1)\n",
    "qc.rx(param,0)\n",
    "display(qc.draw('mpl'))\n",
    "#Utilities\n",
    "def cir(qc,theta):\n",
    "    qcnew=qc.assign_parameters(theta)\n",
    "    simulator= Aer.get_backend('statevector_simulator')\n",
    "    result= execute(qcnew,simulator).result()\n",
    "    return result.get_statevector()\n",
    "def der(sv):\n",
    "    return (np.imag(sv[1])+np.real(sv[1]))/2 # sv1 because der of sv0 gives sv1.\n",
    "def train(qc,lr):\n",
    "    global W\n",
    "    sv=cir(qc,W)\n",
    "    W=W-lr*der(sv)\n"
   ]
  },
  {
   "cell_type": "code",
   "execution_count": 61,
   "id": "d5c4ee7d-fda1-449c-ac7f-2a6ca93d1bf4",
   "metadata": {},
   "outputs": [
    {
     "name": "stdout",
     "output_type": "stream",
     "text": [
      "The W:[1.92434972]\n",
      "Corresponding output:[0.57173701+0.j         0.        -0.82043695j]\n",
      "The W:[5.73819994]\n",
      "Corresponding output:[-0.96310303+0.j          0.        -0.26913298j]\n",
      "The W:[6.25220456]\n",
      "Corresponding output:[-0.99988003+0.j          0.        -0.01548975j]\n",
      "The W:[6.28144062]\n",
      "Corresponding output:[-0.99999962+0.j          0.        -0.00087234j]\n",
      "The W:[6.28308706]\n",
      "Corresponding output:[-1.+0.00000000e+00j  0.-4.91247567e-05j]\n",
      "The W:[6.28317977]\n",
      "Corresponding output:[-1.+0.00000000e+00j  0.-2.76638771e-06j]\n",
      "The W:[6.283185]\n",
      "Corresponding output:[-1.+0.00000000e+00j  0.-1.55785015e-07j]\n",
      "The W:[6.28318529]\n",
      "Corresponding output:[-1.+0.00000000e+00j  0.-8.77280172e-09j]\n",
      "The W:[6.28318531]\n",
      "Corresponding output:[-1.+0.00000000e+00j  0.-4.94027164e-10j]\n",
      "The W:[6.28318531]\n",
      "Corresponding output:[-1.+0.0000000e+00j  0.-2.7820091e-11j]\n",
      "final output:Statevector([-1.+0.00000000e+00j,  0.-2.08867402e-12j],\n",
      "            dims=(2,))\n"
     ]
    }
   ],
   "source": [
    "#Hypperparameters\n",
    "global W\n",
    "W=np.array([np.pi/2])\n",
    "for i in range(100):\n",
    "    train(qc,1)\n",
    "    if(i%10==0):\n",
    "        print(f\"The W:{W}\")\n",
    "        print(f\"Corresponding output:{cir(qc,W).data}\")\n",
    "print(f\"final output:{cir(qc,W)}\")\n"
   ]
  },
  {
   "cell_type": "code",
   "execution_count": 62,
   "id": "d30e0863-cd57-4342-8d83-97fdce52a3ec",
   "metadata": {
    "tags": []
   },
   "outputs": [
    {
     "name": "stdout",
     "output_type": "stream",
     "text": [
      "The W:[1.34150293]\n",
      "Corresponding output:[0.78335479+0.j         0.        -0.62157483j]\n",
      "The W:[3.13781909]\n",
      "Corresponding output:[0.00188678+0.j         0.        -0.99999822j]\n",
      "The W:[3.14158897]\n",
      "Corresponding output:[1.84256605e-06+0.j 0.00000000e+00-1.j]\n",
      "The W:[3.14159265]\n",
      "Corresponding output:[1.79938093e-09+0.j 0.00000000e+00-1.j]\n",
      "The W:[3.14159265]\n",
      "Corresponding output:[1.75710019e-12+0.j 0.00000000e+00-1.j]\n",
      "The W:[3.14159265]\n",
      "Corresponding output:[1.61554457e-15+0.j 0.00000000e+00-1.j]\n",
      "The W:[3.14159265]\n",
      "Corresponding output:[6.123234e-17+0.j 0.000000e+00-1.j]\n",
      "The W:[3.14159265]\n",
      "Corresponding output:[6.123234e-17+0.j 0.000000e+00-1.j]\n",
      "The W:[3.14159265]\n",
      "Corresponding output:[6.123234e-17+0.j 0.000000e+00-1.j]\n",
      "The W:[3.14159265]\n",
      "Corresponding output:[6.123234e-17+0.j 0.000000e+00-1.j]\n",
      "final output:Statevector([6.123234e-17+0.j, 0.000000e+00-1.j],\n",
      "            dims=(2,))\n"
     ]
    }
   ],
   "source": [
    "#the output is lowest value plausible -1. If you want to go to [0,0], you have to square the loss function (cos(theta/2))^2\n",
    "def der(sv):\n",
    "  return abs(np.imag(sv[0]))+np.real(sv[0])*(np.imag(sv[1]))+np.real(sv[1])# cos(theta/2)*sin(theta/2)\n",
    "#Hypperparameters\n",
    "global W\n",
    "W=np.array([np.random.rand()])\n",
    "#training\n",
    "for i in range(100):\n",
    "    train(qc,1)\n",
    "    if(i%10==0):\n",
    "        print(f\"The W:{W}\")\n",
    "        print(f\"Corresponding output:{cir(qc,W).data}\")\n",
    "print(f\"final output:{cir(qc,W)}\")"
   ]
  },
  {
   "cell_type": "code",
   "execution_count": null,
   "id": "02ef983e-f29a-4833-a2c4-496c4a357b93",
   "metadata": {
    "tags": []
   },
   "outputs": [],
   "source": [
    "\n"
   ]
  },
  {
   "cell_type": "code",
   "execution_count": null,
   "id": "8456d68f-a08c-4e06-bfd8-e20a3f1c85c2",
   "metadata": {},
   "outputs": [],
   "source": []
  }
 ],
 "metadata": {
  "kernelspec": {
   "display_name": "Python 3 (ipykernel)",
   "language": "python",
   "name": "python3"
  },
  "language_info": {
   "codemirror_mode": {
    "name": "ipython",
    "version": 3
   },
   "file_extension": ".py",
   "mimetype": "text/x-python",
   "name": "python",
   "nbconvert_exporter": "python",
   "pygments_lexer": "ipython3",
   "version": "3.10.8"
  },
  "widgets": {
   "application/vnd.jupyter.widget-state+json": {
    "state": {},
    "version_major": 2,
    "version_minor": 0
   }
  }
 },
 "nbformat": 4,
 "nbformat_minor": 5
}
